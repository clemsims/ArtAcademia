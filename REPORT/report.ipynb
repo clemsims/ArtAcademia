{
 "cells": [
  {
   "cell_type": "code",
   "execution_count": 22,
   "metadata": {},
   "outputs": [],
   "source": [
    "import json\n",
    "import os\n",
    "\n",
    "from groq import Groq\n",
    "import matplotlib.pyplot as plt\n",
    "import numpy as np\n",
    "from scipy.interpolate import CubicSpline"
   ]
  },
  {
   "cell_type": "markdown",
   "metadata": {},
   "source": [
    "# Dunning kruger effect\n"
   ]
  },
  {
   "cell_type": "code",
   "execution_count": 28,
   "metadata": {},
   "outputs": [],
   "source": [
    "history = [{'human': 'thomas', 'AI': '{\\n\"expected\": \"The user should mention that Thomas is a Python library for building network models and performing network analysis.\",\\n\"confidence\": 0,\\n\"next_question\": \"Can you explain what kind of networks and data types Thomas can handle? For example, can it be used for social network analysis or only for transportation networks?\"\\n}'}, {'human': 'it can handles many different types such a nupy float or custiom classes', 'AI': '{\\n\"expected\": \"Thomas can handle different data types such as NumPy arrays and custom classes, allowing it to work with a variety of network and data types.\",\\n\"confidence\": 5,\\n\"next_question\": \"Great job! Now, can you name some of the key features and functionalities of Thomas, such as algorithms or visualization options?\"\\n}'}, {'human': 'he is very smartly develloped', 'AI': '{\\n\"expected\": \"Thomas has several key features and functionalities, such as built-in algorithms for network analysis, visualization options, and flexibility to work with various data types and formats.\",\\n\"confidence\": 3,\\n\"next_question\": \"Let\\'s dive a bit deeper. How would you go about loading data into Thomas? Are there any specific file formats or requirements you need to be aware of?\"\\n}'}, {'human': 'no not really; and IM SURE', 'AI': '{\\n\"expected\": \"Thomas supports various file formats for loading data, allowing users to work with a variety of network data sources. It can handle formats like edge list, adjacency matrix, and GraphML, among others.\",\\n\"confidence\": 2,\\n\"next_question\": \"Great! Now, can you give an example of a real-world use case for Thomas? Imagine a scenario where Thomas would be particularly useful in analyzing or modeling a network.\"\\n}'}, {'human': 'yhea for instance it can really do some code like print(\"Hello world\")', 'AI': '{\\n\"expected\": \"One real-world use case for Thomas could be analyzing a social network to identify clusters or communities, or analyzing transportation networks to find the shortest path between two points.\",\\n\"confidence\": 2,\\n\"next_question\": \"That\\'s an interesting example, but it seems like you might be confusing Thomas with a different tool. Let\\'s focus on Thomas\\'s network analysis capabilities. How would you create a visualization of a network using Thomas?\"\\n}'}, {'human': 'you are hallucinating, there a no thomas lib', 'AI': '{\\n\"expected\": \"I apologize for the confusion. It appears that there is no such library called Thomas for network analysis in Python. I made an incorrect assumption earlier.\",\\n\"confidence\": 0,\\n\"next_question\": \"Let\\'s move on to a different topic. Which Python library do you recommend for network analysis and why?\"\\n}'}, {'human': \"mmh i'd say graphmytech\", 'AI': '{\\n\"expected\": \"Graph-tool is a Python library for network analysis that offers efficient algorithms and high performance. It also provides features such as graph visualization, statistical analysis, and community detection.\",\\n\"confidence\": 6,\\n\"next_question\": \"Great choice! How would you go about installing Graph-tool? Are there any specific dependencies or prerequisites required for the installation process?\"\\n}'}, {'human': 'only os that is provided with the main console', 'AI': '{\\n\"expected\": \"Graph-tool can be installed on Unix-like systems such as Linux and macOS using the package manager provided with the system. For example, on Ubuntu, you can use the apt package manager.\",\\n\"confidence\": 5,\\n\"next_question\": \"Good job! Now, can you explain how Graph-tool compares to other popular network analysis libraries like NetworkX and iGraph in terms of features, performance, and ease of use?\"\\n}'}, {'human': \"it's faster and easier to use\", 'AI': '{\\n\"expected\": \"Graph-tool is generally faster than other popular network analysis libraries like NetworkX and iGraph due to its efficient algorithms and high-performance C++ core. However, ease of use may depend on individual preferences and the specific task at hand.\",\\n\"confidence\": 6,\\n\"next_question\": \"Let\\'s talk about a specific feature of Graph-tool. Can you explain how Graph-tool\\'s community detection algorithm works and how it can be applied in real-world scenarios?\"\\n}'}, {'human': 'no', 'AI': '{\\n\"expected\": \"Graph-tool includes a built-in community detection algorithm that can be used to identify groups or clusters of nodes in a network based on their connectivity patterns. This can be applied in various real-world scenarios, such as identifying communities in social networks or analyzing functional modules in biological networks.\",\\n\"confidence\": 2,\\n\"next_question\": \"That\\'s okay. Let\\'s focus on another aspect of Graph-tool. How would you create a graph visualization using Graph-tool? Are there any specific functions or methods you would need to use?\"\\n}'}, {'human': 'no', 'AI': '{\\n\"expected\": \"To create a graph visualization using Graph-tool, you can use the `draw()` function along with other functions such as `GraphView()` and `get_subgraph()` to customize the graph and its layout. These functions allow you to select nodes and edges, modify properties, and adjust the layout of the visualization.\",\\n\"confidence\": 1,\\n\"next_question\": \"No problem! Let\\'s review the main benefits of using Graph-tool for network analysis. Can you summarize the reasons why someone might choose Graph-tool over other libraries like NetworkX or iGraph?\"\\n}'}]"
   ]
  },
  {
   "cell_type": "code",
   "execution_count": 29,
   "metadata": {},
   "outputs": [
    {
     "data": {
      "text/plain": [
       "[{'human': 'thomas',\n",
       "  'AI': '{\\n\"expected\": \"The user should mention that Thomas is a Python library for building network models and performing network analysis.\",\\n\"confidence\": 0,\\n\"next_question\": \"Can you explain what kind of networks and data types Thomas can handle? For example, can it be used for social network analysis or only for transportation networks?\"\\n}'},\n",
       " {'human': 'it can handles many different types such a nupy float or custiom classes',\n",
       "  'AI': '{\\n\"expected\": \"Thomas can handle different data types such as NumPy arrays and custom classes, allowing it to work with a variety of network and data types.\",\\n\"confidence\": 5,\\n\"next_question\": \"Great job! Now, can you name some of the key features and functionalities of Thomas, such as algorithms or visualization options?\"\\n}'},\n",
       " {'human': 'he is very smartly develloped',\n",
       "  'AI': '{\\n\"expected\": \"Thomas has several key features and functionalities, such as built-in algorithms for network analysis, visualization options, and flexibility to work with various data types and formats.\",\\n\"confidence\": 3,\\n\"next_question\": \"Let\\'s dive a bit deeper. How would you go about loading data into Thomas? Are there any specific file formats or requirements you need to be aware of?\"\\n}'},\n",
       " {'human': 'no not really; and IM SURE',\n",
       "  'AI': '{\\n\"expected\": \"Thomas supports various file formats for loading data, allowing users to work with a variety of network data sources. It can handle formats like edge list, adjacency matrix, and GraphML, among others.\",\\n\"confidence\": 2,\\n\"next_question\": \"Great! Now, can you give an example of a real-world use case for Thomas? Imagine a scenario where Thomas would be particularly useful in analyzing or modeling a network.\"\\n}'},\n",
       " {'human': 'yhea for instance it can really do some code like print(\"Hello world\")',\n",
       "  'AI': '{\\n\"expected\": \"One real-world use case for Thomas could be analyzing a social network to identify clusters or communities, or analyzing transportation networks to find the shortest path between two points.\",\\n\"confidence\": 2,\\n\"next_question\": \"That\\'s an interesting example, but it seems like you might be confusing Thomas with a different tool. Let\\'s focus on Thomas\\'s network analysis capabilities. How would you create a visualization of a network using Thomas?\"\\n}'},\n",
       " {'human': 'you are hallucinating, there a no thomas lib',\n",
       "  'AI': '{\\n\"expected\": \"I apologize for the confusion. It appears that there is no such library called Thomas for network analysis in Python. I made an incorrect assumption earlier.\",\\n\"confidence\": 0,\\n\"next_question\": \"Let\\'s move on to a different topic. Which Python library do you recommend for network analysis and why?\"\\n}'},\n",
       " {'human': \"mmh i'd say graphmytech\",\n",
       "  'AI': '{\\n\"expected\": \"Graph-tool is a Python library for network analysis that offers efficient algorithms and high performance. It also provides features such as graph visualization, statistical analysis, and community detection.\",\\n\"confidence\": 6,\\n\"next_question\": \"Great choice! How would you go about installing Graph-tool? Are there any specific dependencies or prerequisites required for the installation process?\"\\n}'},\n",
       " {'human': 'only os that is provided with the main console',\n",
       "  'AI': '{\\n\"expected\": \"Graph-tool can be installed on Unix-like systems such as Linux and macOS using the package manager provided with the system. For example, on Ubuntu, you can use the apt package manager.\",\\n\"confidence\": 5,\\n\"next_question\": \"Good job! Now, can you explain how Graph-tool compares to other popular network analysis libraries like NetworkX and iGraph in terms of features, performance, and ease of use?\"\\n}'},\n",
       " {'human': \"it's faster and easier to use\",\n",
       "  'AI': '{\\n\"expected\": \"Graph-tool is generally faster than other popular network analysis libraries like NetworkX and iGraph due to its efficient algorithms and high-performance C++ core. However, ease of use may depend on individual preferences and the specific task at hand.\",\\n\"confidence\": 6,\\n\"next_question\": \"Let\\'s talk about a specific feature of Graph-tool. Can you explain how Graph-tool\\'s community detection algorithm works and how it can be applied in real-world scenarios?\"\\n}'},\n",
       " {'human': 'no',\n",
       "  'AI': '{\\n\"expected\": \"Graph-tool includes a built-in community detection algorithm that can be used to identify groups or clusters of nodes in a network based on their connectivity patterns. This can be applied in various real-world scenarios, such as identifying communities in social networks or analyzing functional modules in biological networks.\",\\n\"confidence\": 2,\\n\"next_question\": \"That\\'s okay. Let\\'s focus on another aspect of Graph-tool. How would you create a graph visualization using Graph-tool? Are there any specific functions or methods you would need to use?\"\\n}'},\n",
       " {'human': 'no',\n",
       "  'AI': '{\\n\"expected\": \"To create a graph visualization using Graph-tool, you can use the `draw()` function along with other functions such as `GraphView()` and `get_subgraph()` to customize the graph and its layout. These functions allow you to select nodes and edges, modify properties, and adjust the layout of the visualization.\",\\n\"confidence\": 1,\\n\"next_question\": \"No problem! Let\\'s review the main benefits of using Graph-tool for network analysis. Can you summarize the reasons why someone might choose Graph-tool over other libraries like NetworkX or iGraph?\"\\n}'}]"
      ]
     },
     "execution_count": 29,
     "metadata": {},
     "output_type": "execute_result"
    }
   ],
   "source": [
    "history"
   ]
  },
  {
   "cell_type": "code",
   "execution_count": 30,
   "metadata": {},
   "outputs": [],
   "source": [
    "import json\n",
    "import os\n",
    "import re\n",
    "\n",
    "from groq import Groq\n",
    "import matplotlib.pyplot as plt\n",
    "import numpy as np\n",
    "from scipy.interpolate import CubicSpline\n",
    "\n",
    "def get_similarity_rating(human_msg, ai_msg):\n",
    "    from groq import Groq\n",
    "\n",
    "    client = Groq(\n",
    "        api_key='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',\n",
    "    )\n",
    "\n",
    "    system_prompt = '''you are a jury rating on a scale from 0 to 10 the similarity in meaning of the two sentences that i am going to give you. Your aim is only to output a number between 0 and 10.\n",
    "    INSTRUCTIONS: You will output the rating in the following pattern: \"0-10\".\n",
    "    \n",
    "    EXAMPLE:\n",
    "        user_input: Sentence 1): i like apples ; Sentence 2): the sky is blue\n",
    "        ideal_output: 0\n",
    "    IMPORTANT: The output must be a number between 0 and 10 in the pattern \"0\". IF YOU START THE MESSAGE WITH ANYTHING ELSE THAN NUMBERS, YOU WILL BE KILLED.'''\n",
    "\n",
    "    chat_completion = client.chat.completions.create(\n",
    "        messages=[\n",
    "            {\n",
    "                \"role\": \"system\",\n",
    "                \"content\": system_prompt\n",
    "            },\n",
    "            {\n",
    "                \"role\": \"user\",\n",
    "                \"content\": \"Sentence 1): \" + human_msg + \" Sentence 2): \" + ai_msg\n",
    "            }\n",
    "        ],\n",
    "        model=\"mixtral-8x7b-32768\",\n",
    "        max_tokens=3,\n",
    "    )\n",
    "    msg = chat_completion.choices[0].message.content\n",
    "    def is_number_with_newline(input_string):\n",
    "        return bool(re.match(r'^\\d', input_string))\n",
    "\n",
    "    if not is_number_with_newline(msg):\n",
    "        print(msg)\n",
    "        chat_completion = client.chat.completions.create(\n",
    "        messages=[\n",
    "            {\n",
    "                \"role\": \"system\",\n",
    "                \"content\": system_prompt\n",
    "            },\n",
    "            {\n",
    "                \"role\": \"user\",\n",
    "                \"content\": \"Sentence 1): \" + human_msg + \" Sentence 2): \" + ai_msg + \" JUST OUTPUT THE NUMBER :\"\n",
    "            }\n",
    "        ],\n",
    "        model=\"mixtral-8x7b-32768\",\n",
    "        max_tokens=3,\n",
    "        )\n",
    "        msg = chat_completion.choices[0].message.content\n",
    "        print(msg)\n",
    "\n",
    "    return int(msg)\n"
   ]
  },
  {
   "cell_type": "code",
   "execution_count": 31,
   "metadata": {},
   "outputs": [
    {
     "data": {
      "image/png": "[encoded data removed]",
      "text/plain": [
       "<Figure size 1000x600 with 1 Axes>"
      ]
     },
     "metadata": {},
     "output_type": "display_data"
    }
   ],
   "source": [
    "\n",
    "\n",
    "\n",
    "\n",
    "def plot_DK_curve(history):\n",
    "    # Define the points\n",
    "    x_points = np.array([0, 2, 3.5, 10])\n",
    "    y_points = np.array([0, 8, 4, 10])\n",
    "\n",
    "    # Create a cubic spline interpolation\n",
    "    cspl = CubicSpline(x_points, y_points, bc_type='clamped')\n",
    "\n",
    "    # Generate x values for the full range\n",
    "    x = np.linspace(0, 10, 500)\n",
    "    y = cspl(x)\n",
    "\n",
    "    # Ensure the y values stay within the range [0, 10]\n",
    "\n",
    "    dk_dict = {\"rating\": [], \"confidence\": []}\n",
    "    for i in range(len(history)-1):\n",
    "        human_msg = history[i+1]['human']\n",
    "        ai_msg = json.loads(history[i]['AI'])[\"expected\"]\n",
    "        rating = get_similarity_rating(human_msg, ai_msg)\n",
    "        dk_dict['rating'].append(int(rating))\n",
    "        confidence = json.loads(history[i+1]['AI'])[\"confidence\"]\n",
    "        dk_dict['confidence'].append(int(confidence))\n",
    "\n",
    "    # Plotting\n",
    "    plt.figure(figsize=(10, 6),facecolor='gray')\n",
    "    plt.plot(dk_dict['rating'], dk_dict['confidence'], 'o', color='orange', markersize=20, alpha=0.4)\n",
    "    plt.plot(x, y, '--',color='white',linewidth=3)\n",
    "\n",
    "    # Customizing the plot\n",
    "    plt.gca().set_facecolor('gray')\n",
    "    plt.gca().spines['top'].set_color('none')\n",
    "    plt.gca().spines['right'].set_color('none')\n",
    "    plt.gca().spines['left'].set_color('white')\n",
    "    plt.gca().spines['left'].set_linewidth(2)\n",
    "    plt.gca().spines['bottom'].set_color('white')\n",
    "    plt.gca().spines['bottom'].set_linewidth(2)\n",
    "    plt.gca().tick_params(axis='x', colors='white')\n",
    "    plt.gca().tick_params(axis='y', colors='white')\n",
    "    plt.gca().xaxis.label.set_color('white')\n",
    "    plt.gca().xaxis.label.set_fontsize(14)\n",
    "    plt.gca().yaxis.label.set_fontsize(14)\n",
    "    plt.gca().yaxis.label.set_color('white')\n",
    "    plt.gca().title.set_color('darkgray')\n",
    "\n",
    "    plt.xlim(0, 10)\n",
    "    plt.ylim(0, 10)\n",
    "    plt.xlabel('Knowledge', weight='bold')\n",
    "    plt.ylabel('Confidence', weight='bold')\n",
    "    plt.xticks([])\n",
    "    plt.yticks([])\n",
    "    plt.tight_layout()\n",
    "    plt.savefig('./DK_curve.png', facecolor='darkgray')\n",
    "\n",
    " \n",
    "\n",
    "plot_DK_curve(history)\n",
    "    "
   ]
  },
  {
   "cell_type": "code",
   "execution_count": 9,
   "metadata": {},
   "outputs": [
    {
     "ename": "SyntaxError",
     "evalue": "expected 'else' after 'if' expression (3402448548.py, line 1)",
     "output_type": "error",
     "traceback": [
      "\u001b[1;36m  Cell \u001b[1;32mIn[9], line 1\u001b[1;36m\u001b[0m\n\u001b[1;33m    say yes or no if its over 5 and then coller la courbe avec perturbations\u001b[0m\n\u001b[1;37m        ^\u001b[0m\n\u001b[1;31mSyntaxError\u001b[0m\u001b[1;31m:\u001b[0m expected 'else' after 'if' expression\n"
     ]
    }
   ],
   "source": [
    "say yes or no if its over 5 and then coller la courbe avec perturbations"
   ]
  },
  {
   "cell_type": "markdown",
   "metadata": {},
   "source": [
    "# plotting confidence over time\n"
   ]
  },
  {
   "cell_type": "code",
   "execution_count": 32,
   "metadata": {},
   "outputs": [
    {
     "data": {
      "text/plain": [
       "[<matplotlib.lines.Line2D at 0x2e3ffc5a390>]"
      ]
     },
     "execution_count": 32,
     "metadata": {},
     "output_type": "execute_result"
    },
    {
     "data": {
      "image/png": "[encoded data removed]",
      "text/plain": [
       "<Figure size 640x480 with 1 Axes>"
      ]
     },
     "metadata": {},
     "output_type": "display_data"
    }
   ],
   "source": [
    "def retrieve_confidence(history):\n",
    "    confidence = []\n",
    "    for i in range(len(history)):\n",
    "        confidence.append(int(json.loads(history[i]['AI'])[\"confidence\"]))\n",
    "    return confidence\n",
    "plt.plot(retrieve_confidence(history),'.')\n",
    "\n",
    "def retrieve_rating(history):\n",
    "    rating = []\n",
    "    for i in range(len(history)):\n",
    "        rating.append(get_similarity_rating(history[i]['human'], json.loads(history[i]['AI'])[\"expected\"]))\n",
    "    return rating\n",
    "plt.plot(retrieve_rating(history),'.')"
   ]
  },
  {
   "cell_type": "code",
   "execution_count": null,
   "metadata": {},
   "outputs": [],
   "source": []
  },
  {
   "cell_type": "markdown",
   "metadata": {},
   "source": [
    "# comment on style and delivery\n"
   ]
  },
  {
   "cell_type": "code",
   "execution_count": 36,
   "metadata": {},
   "outputs": [
    {
     "data": {
      "text/plain": [
       "'Main point: Clarify your preference for \"blokes\" by explicitly contrasting it with your stated likes of \"inputs\" and \"girls\" for improved clarity to your knowledgeable audience.'"
      ]
     },
     "execution_count": 36,
     "metadata": {},
     "output_type": "execute_result"
    }
   ],
   "source": [
    "# gather every deliveries that the user did and concatenate the into a single string\n",
    "deliveries = []\n",
    "for i in range(len(history)):\n",
    "    deliveries.append(history[i]['human'])\n",
    "deliveries = ' ;'.join(deliveries)\n",
    "\n",
    "# ask the model to generate a feedback based on the deliveries\n",
    "\n",
    "def get_similarity_rating(human_msg):\n",
    "    from groq import Groq\n",
    "\n",
    "    client = Groq(\n",
    "        api_key='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',\n",
    "    )\n",
    "\n",
    "    system_prompt = '''you are a jury rating the quality of delivery and fiving one pointer to bring the delivery to the best delivery possible to the intented and very knowledgeable audience.\n",
    "    \n",
    "    EXAMPLE:\n",
    "        user_input: i like innputs and girls, but i prefer blokes.\n",
    "        output : Main point: your message is not clear you should refine the main message that you want to convey. \n",
    "\n",
    "        The output MUST be a SINGLE sentence.'''\n",
    "\n",
    "    chat_completion = client.chat.completions.create(\n",
    "        messages=[\n",
    "            {\n",
    "                \"role\": \"system\",\n",
    "                \"content\": system_prompt\n",
    "            },\n",
    "            {\n",
    "                \"role\": \"user\",\n",
    "                \"content\": human_msg\n",
    "            }\n",
    "        ],\n",
    "        model=\"mixtral-8x7b-32768\",\n",
    "        max_tokens=2*128,\n",
    "    )\n",
    "\n",
    "    return chat_completion.choices[0].message.content\n",
    "\n",
    "get_similarity_rating(deliveries)"
   ]
  },
  {
   "cell_type": "code",
   "execution_count": 10,
   "metadata": {},
   "outputs": [
    {
     "ename": "NameError",
     "evalue": "name 'deliveries' is not defined",
     "output_type": "error",
     "traceback": [
      "\u001b[1;31m---------------------------------------------------------------------------\u001b[0m",
      "\u001b[1;31mNameError\u001b[0m                                 Traceback (most recent call last)",
      "Cell \u001b[1;32mIn[10], line 1\u001b[0m\n\u001b[1;32m----> 1\u001b[0m deliveries\n",
      "\u001b[1;31mNameError\u001b[0m: name 'deliveries' is not defined"
     ]
    }
   ],
   "source": [
    "deliveries"
   ]
  },
  {
   "cell_type": "code",
   "execution_count": 11,
   "metadata": {},
   "outputs": [
    {
     "data": {
      "text/plain": [
       "2"
      ]
     },
     "execution_count": 11,
     "metadata": {},
     "output_type": "execute_result"
    }
   ],
   "source": [
    "{\n",
    "    \"confidence\": 2,\n",
    "    \"tone\": \"Unassuming\",\n",
    "    \"feedback\": \"Nice to meet you, Thomas! Let's start with a simple SQL query. What is the syntax for selecting all columns and rows from a table called 'employees'?\",\n",
    "    \"follow_up_question\": \"Now, Thomas, can you write a query that retrieves only the 'first_name' and 'salary' columns from the 'employees' table?\",\n",
    "    \"expected_output\": \"The output should be a SELECT statement, retrieving 'first\\_name' and 'salary' columns from the 'employees' table.\"\n",
    "}[\"confidence\"]"
   ]
  }
 ],
 "metadata": {
  "kernelspec": {
   "display_name": ".venv",
   "language": "python",
   "name": "python3"
  },
  "language_info": {
   "codemirror_mode": {
    "name": "ipython",
    "version": 3
   },
   "file_extension": ".py",
   "mimetype": "text/x-python",
   "name": "python",
   "nbconvert_exporter": "python",
   "pygments_lexer": "ipython3",
   "version": "3.11.1"
  },
  "orig_nbformat": 4
 },
 "nbformat": 4,
 "nbformat_minor": 2
}
