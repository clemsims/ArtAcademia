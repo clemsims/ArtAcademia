{
 "cells": [
  {
   "cell_type": "code",
   "execution_count": 37,
   "metadata": {},
   "outputs": [],
   "source": [
    "import json\n",
    "import os\n",
    "\n",
    "from groq import Groq\n",
    "import matplotlib.pyplot as plt\n",
    "import numpy as np\n",
    "from scipy.interpolate import CubicSpline"
   ]
  },
  {
   "cell_type": "markdown",
   "metadata": {},
   "source": [
    "# Dunning kruger effect\n"
   ]
  },
  {
   "cell_type": "code",
   "execution_count": 38,
   "metadata": {},
   "outputs": [],
   "source": [
    "history = [{'human': \"Hi i'm THOMAS !! :DD\", 'AI': '{\\n\"expected\": \"Deep learning is a subset of machine learning, which is a type of artificial intelligence that focuses on algorithms that allow computers to learn from and make decisions or predictions based on data.\",\\n\"confidence\": 5,\\n\"tone\": \"Unassuming\",\\n\"question\": \"That\\'s a good start! Can you explain how deep learning differs from traditional machine learning techniques and what types of problems it is particularly well-suited for?\"}'}, {'human': 'machine learning is old and dead. deep elarning is the new thing around the bloc !', 'AI': '{\"expected\": \"While it\\'s true that deep learning has gained popularity in recent years and has been able to achieve impressive results in certain applications, it\\'s important to note that machine learning is still a very active field of research and has many applications beyond what deep learning can currently handle.\",\\n\"confidence\": 4,\\n\"tone\": \"Concerned\",\\n\"question\": \"Can you give an example of a problem that deep learning is particularly well-suited for and explain why it is a good fit for that problem?\"}'}, {'human': \"it's best to solve all of your issues !!!\", 'AI': '{\"expected\": \"It is not always possible or necessary to use deep learning to solve every problem. Deep learning is a powerful tool, but it has its limitations and may not be the most appropriate approach for every problem. Sometimes simpler machine learning techniques or even traditional statistical methods may be more appropriate.\",\\n\"confidence\": 7,\\n\"tone\": \"Assertive\",\\n\"question\": \"Can you think of a situation where deep learning may not be the best approach and explain why?\"}'}, {'human': \"Yes. For instance if you have seldom data, deep learning might not be the best tool to learn the corpus because it's data hungry.\", 'AI': '{\"expected\": \"Exactly! Deep learning models typically require large amounts of data to train effectively, and may not perform well when trained on small datasets. In these cases, simpler machine learning techniques or traditional statistical methods may be more appropriate. Can you give another example of a situation where deep learning may not be the best approach?\",\\n\"confidence\": 9,\\n\"tone\": \"Confident\",\\n\"question\": \"Great job! Can you explain the basic architecture of a deep learning model and how it differs from a traditional machine learning model?\"}'}, {'human': 'the basic architecture take an input as a vector, transform it linearly with a matrix multiplication, then performs an activation function on every node output of the layers.', 'AI': '{\"expected\": \"That\\'s correct! A deep learning model typically consists of one or more layers of artificial neural networks. Each layer takes an input vector, applies a linear transformation using a matrix multiplication, and then applies a non-linear activation function to the output. This process is repeated for each layer in the model. The key difference between deep learning models and traditional machine learning models is that deep learning models have multiple layers, allowing them to learn complex representations of the data.\",\\n\"confidence\": 10,\\n\"tone\": \"Formal\",\\n\"question\": \"Great job! Can you explain one of the most commonly used activation functions in deep learning and why it is useful?\"}'}, {'human': \"Relu : max(0,x). It's really useful because the non linearity induced wich is not bounded works really well with modern models.\", 'AI': '{\"expected\": \"Yes, that\\'s correct! The rectified linear unit (ReLU) is a commonly used activation function in deep learning. It is defined as max(0, x), meaning that it outputs the input if it is positive and 0 otherwise. The ReLU is a simple but effective activation function that has been shown to work well in many deep learning models. The main advantage of the ReLU over other activation functions is that it is not bounded, allowing for the efficient training of deep models. Can you explain another commonly used activation function and in what types of layers it is typically used?\",\\n\"confidence\": 10,\\n\"tone\": \"Confident\",\\n\"question\": \"Great job! Can you explain the difference between a fully connected layer and a convolutional layer in a deep learning model?\"}'}]"
   ]
  },
  {
   "cell_type": "code",
   "execution_count": 39,
   "metadata": {},
   "outputs": [
    {
     "data": {
      "text/plain": [
       "[{'human': \"Hi i'm THOMAS !! :DD\",\n",
       "  'AI': '{\\n\"expected\": \"Deep learning is a subset of machine learning, which is a type of artificial intelligence that focuses on algorithms that allow computers to learn from and make decisions or predictions based on data.\",\\n\"confidence\": 5,\\n\"tone\": \"Unassuming\",\\n\"question\": \"That\\'s a good start! Can you explain how deep learning differs from traditional machine learning techniques and what types of problems it is particularly well-suited for?\"}'},\n",
       " {'human': 'machine learning is old and dead. deep elarning is the new thing around the bloc !',\n",
       "  'AI': '{\"expected\": \"While it\\'s true that deep learning has gained popularity in recent years and has been able to achieve impressive results in certain applications, it\\'s important to note that machine learning is still a very active field of research and has many applications beyond what deep learning can currently handle.\",\\n\"confidence\": 4,\\n\"tone\": \"Concerned\",\\n\"question\": \"Can you give an example of a problem that deep learning is particularly well-suited for and explain why it is a good fit for that problem?\"}'},\n",
       " {'human': \"it's best to solve all of your issues !!!\",\n",
       "  'AI': '{\"expected\": \"It is not always possible or necessary to use deep learning to solve every problem. Deep learning is a powerful tool, but it has its limitations and may not be the most appropriate approach for every problem. Sometimes simpler machine learning techniques or even traditional statistical methods may be more appropriate.\",\\n\"confidence\": 7,\\n\"tone\": \"Assertive\",\\n\"question\": \"Can you think of a situation where deep learning may not be the best approach and explain why?\"}'},\n",
       " {'human': \"Yes. For instance if you have seldom data, deep learning might not be the best tool to learn the corpus because it's data hungry.\",\n",
       "  'AI': '{\"expected\": \"Exactly! Deep learning models typically require large amounts of data to train effectively, and may not perform well when trained on small datasets. In these cases, simpler machine learning techniques or traditional statistical methods may be more appropriate. Can you give another example of a situation where deep learning may not be the best approach?\",\\n\"confidence\": 9,\\n\"tone\": \"Confident\",\\n\"question\": \"Great job! Can you explain the basic architecture of a deep learning model and how it differs from a traditional machine learning model?\"}'},\n",
       " {'human': 'the basic architecture take an input as a vector, transform it linearly with a matrix multiplication, then performs an activation function on every node output of the layers.',\n",
       "  'AI': '{\"expected\": \"That\\'s correct! A deep learning model typically consists of one or more layers of artificial neural networks. Each layer takes an input vector, applies a linear transformation using a matrix multiplication, and then applies a non-linear activation function to the output. This process is repeated for each layer in the model. The key difference between deep learning models and traditional machine learning models is that deep learning models have multiple layers, allowing them to learn complex representations of the data.\",\\n\"confidence\": 10,\\n\"tone\": \"Formal\",\\n\"question\": \"Great job! Can you explain one of the most commonly used activation functions in deep learning and why it is useful?\"}'},\n",
       " {'human': \"Relu : max(0,x). It's really useful because the non linearity induced wich is not bounded works really well with modern models.\",\n",
       "  'AI': '{\"expected\": \"Yes, that\\'s correct! The rectified linear unit (ReLU) is a commonly used activation function in deep learning. It is defined as max(0, x), meaning that it outputs the input if it is positive and 0 otherwise. The ReLU is a simple but effective activation function that has been shown to work well in many deep learning models. The main advantage of the ReLU over other activation functions is that it is not bounded, allowing for the efficient training of deep models. Can you explain another commonly used activation function and in what types of layers it is typically used?\",\\n\"confidence\": 10,\\n\"tone\": \"Confident\",\\n\"question\": \"Great job! Can you explain the difference between a fully connected layer and a convolutional layer in a deep learning model?\"}'}]"
      ]
     },
     "execution_count": 39,
     "metadata": {},
     "output_type": "execute_result"
    }
   ],
   "source": [
    "history"
   ]
  },
  {
   "cell_type": "code",
   "execution_count": 40,
   "metadata": {},
   "outputs": [],
   "source": [
    "import json\n",
    "import os\n",
    "import re\n",
    "\n",
    "from groq import Groq\n",
    "import matplotlib.pyplot as plt\n",
    "import numpy as np\n",
    "from scipy.interpolate import CubicSpline\n",
    "\n",
    "def get_similarity_rating(human_msg, ai_msg):\n",
    "    from groq import Groq\n",
    "\n",
    "    client = Groq(\n",
    "        api_key='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',\n",
    "    )\n",
    "\n",
    "    system_prompt = '''you are a jury rating on a scale from 0 to 10 the similarity in meaning of the two sentences that i am going to give you. Your aim is only to output a number between 0 and 10.\n",
    "    INSTRUCTIONS: You will output the rating in the following pattern: \"0-10\".\n",
    "    \n",
    "    EXAMPLE:\n",
    "        user_input: Sentence 1): i like apples ; Sentence 2): the sky is blue\n",
    "        ideal_output: 0\n",
    "    IMPORTANT: The output must be a number between 0 and 10 in the pattern \"0\". IF YOU START THE MESSAGE WITH ANYTHING ELSE THAN NUMBERS, YOU WILL BE KILLED.'''\n",
    "\n",
    "    chat_completion = client.chat.completions.create(\n",
    "        messages=[\n",
    "            {\n",
    "                \"role\": \"system\",\n",
    "                \"content\": system_prompt\n",
    "            },\n",
    "            {\n",
    "                \"role\": \"user\",\n",
    "                \"content\": \"Sentence 1): \" + human_msg + \" Sentence 2): \" + ai_msg\n",
    "            }\n",
    "        ],\n",
    "        model=\"mixtral-8x7b-32768\",\n",
    "        max_tokens=3,\n",
    "    )\n",
    "    msg = chat_completion.choices[0].message.content\n",
    "    def is_number_with_newline(input_string):\n",
    "        return bool(re.match(r'^\\d', input_string))\n",
    "\n",
    "    if not is_number_with_newline(msg):\n",
    "        print(msg)\n",
    "        chat_completion = client.chat.completions.create(\n",
    "        messages=[\n",
    "            {\n",
    "                \"role\": \"system\",\n",
    "                \"content\": system_prompt\n",
    "            },\n",
    "            {\n",
    "                \"role\": \"user\",\n",
    "                \"content\": \"Sentence 1): \" + human_msg + \" Sentence 2): \" + ai_msg + \" JUST OUTPUT THE NUMBER :\"\n",
    "            }\n",
    "        ],\n",
    "        model=\"mixtral-8x7b-32768\",\n",
    "        max_tokens=3,\n",
    "        )\n",
    "        msg = chat_completion.choices[0].message.content\n",
    "        print(msg)\n",
    "\n",
    "    return int(msg)\n"
   ]
  },
  {
   "cell_type": "code",
   "execution_count": 42,
   "metadata": {},
   "outputs": [
    {
     "ename": "NameError",
     "evalue": "name 'confidences' is not defined",
     "output_type": "error",
     "traceback": [
      "\u001b[1;31m---------------------------------------------------------------------------\u001b[0m",
      "\u001b[1;31mNameError\u001b[0m                                 Traceback (most recent call last)",
      "Cell \u001b[1;32mIn[42], line 67\u001b[0m\n\u001b[0;32m     62\u001b[0m     plt\u001b[39m.\u001b[39mtight_layout()\n\u001b[0;32m     63\u001b[0m     plt\u001b[39m.\u001b[39msavefig(\u001b[39m'\u001b[39m\u001b[39m./DK_curve.png\u001b[39m\u001b[39m'\u001b[39m, facecolor\u001b[39m=\u001b[39m\u001b[39m'\u001b[39m\u001b[39mdarkgray\u001b[39m\u001b[39m'\u001b[39m)\n\u001b[1;32m---> 67\u001b[0m plot_DK_curve(history)\n",
      "Cell \u001b[1;32mIn[42], line 27\u001b[0m, in \u001b[0;36mplot_DK_curve\u001b[1;34m(history)\u001b[0m\n\u001b[0;32m     25\u001b[0m threshold \u001b[39m=\u001b[39m \u001b[39m2.0\u001b[39m  \u001b[39m# Define a threshold for how far points can be from the curve\u001b[39;00m\n\u001b[0;32m     26\u001b[0m curve_confidences \u001b[39m=\u001b[39m cspl(dk_dict[\u001b[39m'\u001b[39m\u001b[39mrating\u001b[39m\u001b[39m'\u001b[39m])\n\u001b[1;32m---> 27\u001b[0m deltas \u001b[39m=\u001b[39m np\u001b[39m.\u001b[39mabs(confidences \u001b[39m-\u001b[39m curve_confidences)\n\u001b[0;32m     29\u001b[0m \u001b[39m# Adjust confidences\u001b[39;00m\n\u001b[0;32m     30\u001b[0m dk_dict[\u001b[39m'\u001b[39m\u001b[39mconfidence\u001b[39m\u001b[39m'\u001b[39m] \u001b[39m=\u001b[39m np\u001b[39m.\u001b[39mwhere(deltas \u001b[39m>\u001b[39m threshold, curve_confidences \u001b[39m+\u001b[39m np\u001b[39m.\u001b[39msign(confidences \u001b[39m-\u001b[39m curve_confidences) \u001b[39m*\u001b[39m threshold, confidences)\n",
      "\u001b[1;31mNameError\u001b[0m: name 'confidences' is not defined"
     ]
    }
   ],
   "source": [
    "\n",
    "\n",
    "\n",
    "\n",
    "def plot_DK_curve(history):\n",
    "    # Define the points\n",
    "    x_points = np.array([0, 2, 3.5, 10])\n",
    "    y_points = np.array([0, 8, 4, 10])\n",
    "\n",
    "    # Create a cubic spline interpolation\n",
    "    cspl = CubicSpline(x_points, y_points, bc_type='clamped')\n",
    "\n",
    "    # Generate x values for the full range\n",
    "    x = np.linspace(0, 10, 500)\n",
    "    y = cspl(x)\n",
    "\n",
    "    # Ensure the y values stay within the range [0, 10]\n",
    "\n",
    "    dk_dict = {\"rating\": [], \"confidence\": []}\n",
    "    for i in range(len(history)-1):\n",
    "        human_msg = history[i+1]['human']\n",
    "        ai_msg = json.loads(history[i]['AI'])[\"expected\"]\n",
    "        rating = get_similarity_rating(human_msg, ai_msg)\n",
    "        dk_dict['rating'].append(int(rating))\n",
    "        confidence = json.loads(history[i+1]['AI'])[\"confidence\"]\n",
    "        dk_dict['confidence'].append(int(confidence))\n",
    "\n",
    "    dk_dict['confidence'] = np.array(dk_dict['confidence'])\n",
    "    dk_dict['rating'] = np.array(dk_dict['rating'])\n",
    "    threshold = 2.0  # Define a threshold for how far points can be from the curve\n",
    "    curve_confidences = cspl(dk_dict['rating'])\n",
    "    deltas = np.abs(dk_dict['confidence'] - curve_confidences)\n",
    "\n",
    "    # Adjust confidences\n",
    "    dk_dict['confidence'] = np.where(deltas > threshold, curve_confidences + np.sign(dk_dict['confidence'] - curve_confidences) * threshold, dk_dict['confidence'])\n",
    "\n",
    "\n",
    "    # Plotting\n",
    "    plt.figure(figsize=(10, 6),facecolor='gray')\n",
    "    plt.plot(dk_dict['rating'], dk_dict['confidence'], 'o', color='orange', markersize=20, alpha=0.4)\n",
    "    plt.plot(x, y, '--',color='white',linewidth=3)\n",
    "\n",
    "\n",
    "\n",
    "    # Customizing the plot\n",
    "    plt.gca().set_facecolor('gray')\n",
    "    plt.gca().spines['top'].set_color('none')\n",
    "    plt.gca().spines['right'].set_color('none')\n",
    "    plt.gca().spines['left'].set_color('white')\n",
    "    plt.gca().spines['left'].set_linewidth(2)\n",
    "    plt.gca().spines['bottom'].set_color('white')\n",
    "    plt.gca().spines['bottom'].set_linewidth(2)\n",
    "    plt.gca().tick_params(axis='x', colors='white')\n",
    "    plt.gca().tick_params(axis='y', colors='white')\n",
    "    plt.gca().xaxis.label.set_color('white')\n",
    "    plt.gca().xaxis.label.set_fontsize(14)\n",
    "    plt.gca().yaxis.label.set_fontsize(14)\n",
    "    plt.gca().yaxis.label.set_color('white')\n",
    "    plt.gca().title.set_color('darkgray')\n",
    "\n",
    "    plt.xlim(0, 10)\n",
    "    plt.ylim(0, 10)\n",
    "    plt.xlabel('Knowledge', weight='bold')\n",
    "    plt.ylabel('Confidence', weight='bold')\n",
    "    plt.xticks([])\n",
    "    plt.yticks([])\n",
    "    plt.tight_layout()\n",
    "    plt.savefig('./DK_curve.png', facecolor='darkgray')\n",
    "\n",
    " \n",
    "\n",
    "plot_DK_curve(history)\n",
    "    "
   ]
  },
  {
   "cell_type": "code",
   "execution_count": 9,
   "metadata": {},
   "outputs": [
    {
     "ename": "SyntaxError",
     "evalue": "expected 'else' after 'if' expression (3402448548.py, line 1)",
     "output_type": "error",
     "traceback": [
      "\u001b[1;36m  Cell \u001b[1;32mIn[9], line 1\u001b[1;36m\u001b[0m\n\u001b[1;33m    say yes or no if its over 5 and then coller la courbe avec perturbations\u001b[0m\n\u001b[1;37m        ^\u001b[0m\n\u001b[1;31mSyntaxError\u001b[0m\u001b[1;31m:\u001b[0m expected 'else' after 'if' expression\n"
     ]
    }
   ],
   "source": [
    "say yes or no if its over 5 and then coller la courbe avec perturbations"
   ]
  },
  {
   "cell_type": "markdown",
   "metadata": {},
   "source": [
    "# plotting confidence over time\n"
   ]
  },
  {
   "cell_type": "code",
   "execution_count": 32,
   "metadata": {},
   "outputs": [
    {
     "data": {
      "text/plain": [
       "[<matplotlib.lines.Line2D at 0x2e3ffc5a390>]"
      ]
     },
     "execution_count": 32,
     "metadata": {},
     "output_type": "execute_result"
    },
    {
     "data": {
      "image/png": "[encoded data removed]",
      "text/plain": [
       "<Figure size 640x480 with 1 Axes>"
      ]
     },
     "metadata": {},
     "output_type": "display_data"
    }
   ],
   "source": [
    "def retrieve_confidence(history):\n",
    "    confidence = []\n",
    "    for i in range(len(history)):\n",
    "        confidence.append(int(json.loads(history[i]['AI'])[\"confidence\"]))\n",
    "    return confidence\n",
    "plt.plot(retrieve_confidence(history),'.')\n",
    "\n",
    "def retrieve_rating(history):\n",
    "    rating = []\n",
    "    for i in range(len(history)):\n",
    "        rating.append(get_similarity_rating(history[i]['human'], json.loads(history[i]['AI'])[\"expected\"]))\n",
    "    return rating\n",
    "plt.plot(retrieve_rating(history),'.')"
   ]
  },
  {
   "cell_type": "code",
   "execution_count": null,
   "metadata": {},
   "outputs": [],
   "source": []
  },
  {
   "cell_type": "markdown",
   "metadata": {},
   "source": [
    "# comment on style and delivery\n"
   ]
  },
  {
   "cell_type": "code",
   "execution_count": 36,
   "metadata": {},
   "outputs": [
    {
     "data": {
      "text/plain": [
       "'Main point: Clarify your preference for \"blokes\" by explicitly contrasting it with your stated likes of \"inputs\" and \"girls\" for improved clarity to your knowledgeable audience.'"
      ]
     },
     "execution_count": 36,
     "metadata": {},
     "output_type": "execute_result"
    }
   ],
   "source": [
    "# gather every deliveries that the user did and concatenate the into a single string\n",
    "deliveries = []\n",
    "for i in range(len(history)):\n",
    "    deliveries.append(history[i]['human'])\n",
    "deliveries = ' ;'.join(deliveries)\n",
    "\n",
    "# ask the model to generate a feedback based on the deliveries\n",
    "\n",
    "def get_similarity_rating(human_msg):\n",
    "    from groq import Groq\n",
    "\n",
    "    client = Groq(\n",
    "        api_key='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',\n",
    "    )\n",
    "\n",
    "    system_prompt = '''you are a jury rating the quality of delivery and fiving one pointer to bring the delivery to the best delivery possible to the intented and very knowledgeable audience.\n",
    "    \n",
    "    EXAMPLE:\n",
    "        user_input: i like innputs and girls, but i prefer blokes.\n",
    "        output : Main point: your message is not clear you should refine the main message that you want to convey. \n",
    "\n",
    "        The output MUST be a SINGLE sentence.'''\n",
    "\n",
    "    chat_completion = client.chat.completions.create(\n",
    "        messages=[\n",
    "            {\n",
    "                \"role\": \"system\",\n",
    "                \"content\": system_prompt\n",
    "            },\n",
    "            {\n",
    "                \"role\": \"user\",\n",
    "                \"content\": human_msg\n",
    "            }\n",
    "        ],\n",
    "        model=\"mixtral-8x7b-32768\",\n",
    "        max_tokens=2*128,\n",
    "    )\n",
    "\n",
    "    return chat_completion.choices[0].message.content\n",
    "\n",
    "get_similarity_rating(deliveries)"
   ]
  },
  {
   "cell_type": "code",
   "execution_count": 10,
   "metadata": {},
   "outputs": [
    {
     "ename": "NameError",
     "evalue": "name 'deliveries' is not defined",
     "output_type": "error",
     "traceback": [
      "\u001b[1;31m---------------------------------------------------------------------------\u001b[0m",
      "\u001b[1;31mNameError\u001b[0m                                 Traceback (most recent call last)",
      "Cell \u001b[1;32mIn[10], line 1\u001b[0m\n\u001b[1;32m----> 1\u001b[0m deliveries\n",
      "\u001b[1;31mNameError\u001b[0m: name 'deliveries' is not defined"
     ]
    }
   ],
   "source": [
    "deliveries"
   ]
  },
  {
   "cell_type": "code",
   "execution_count": 11,
   "metadata": {},
   "outputs": [
    {
     "data": {
      "text/plain": [
       "2"
      ]
     },
     "execution_count": 11,
     "metadata": {},
     "output_type": "execute_result"
    }
   ],
   "source": [
    "{\n",
    "    \"confidence\": 2,\n",
    "    \"tone\": \"Unassuming\",\n",
    "    \"feedback\": \"Nice to meet you, Thomas! Let's start with a simple SQL query. What is the syntax for selecting all columns and rows from a table called 'employees'?\",\n",
    "    \"follow_up_question\": \"Now, Thomas, can you write a query that retrieves only the 'first_name' and 'salary' columns from the 'employees' table?\",\n",
    "    \"expected_output\": \"The output should be a SELECT statement, retrieving 'first\\_name' and 'salary' columns from the 'employees' table.\"\n",
    "}[\"confidence\"]"
   ]
  }
 ],
 "metadata": {
  "kernelspec": {
   "display_name": ".venv",
   "language": "python",
   "name": "python3"
  },
  "language_info": {
   "codemirror_mode": {
    "name": "ipython",
    "version": 3
   },
   "file_extension": ".py",
   "mimetype": "text/x-python",
   "name": "python",
   "nbconvert_exporter": "python",
   "pygments_lexer": "ipython3",
   "version": "3.11.1"
  },
  "orig_nbformat": 4
 },
 "nbformat": 4,
 "nbformat_minor": 2
}
