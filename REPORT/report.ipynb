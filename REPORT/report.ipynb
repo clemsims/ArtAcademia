{
 "cells": [
  {
   "cell_type": "code",
   "execution_count": 4,
   "metadata": {},
   "outputs": [],
   "source": [
    "import json\n",
    "import os\n",
    "\n",
    "from groq import Groq\n",
    "import matplotlib.pyplot as plt\n",
    "import numpy as np\n",
    "from scipy.interpolate import CubicSpline"
   ]
  },
  {
   "cell_type": "markdown",
   "metadata": {},
   "source": [
    "# Dunning kruger effect\n"
   ]
  },
  {
   "cell_type": "code",
   "execution_count": 5,
   "metadata": {},
   "outputs": [],
   "source": [
    "history = [{'human': 'Hi i(m thomas', 'AI': '{\"confidence\": 5, \"tone\": \"Unassuming\", \"feedback\": \"Remember to capitalize the \\'P\\' in Python.\", \"follow_up_question\": \"What is your favorite feature of Python?\", \"expected_output\": \"A specific feature of Python, such as list comprehension, tuples, or the use of whitespace for indentation.\"}'}, {'human': \"that it's a untyped language\", 'AI': '{\"confidence\": 2, \"tone\": \"\", \"feedback\": \"Python is dynamically typed rather than untyped. It means Python checks the type of the variable at runtime.\", \"follow_up_question\": \"Can you name a few basic data types in Python?\", \"expected_output\": \"\"}'}, {'human': 'int, float, np.f32, char, string', 'AI': '{\"confidence\": 6, \"tone\": \"Assertive\", \"feedback\": \"Good job! You mentioned int, float, and string. However, there is no \\'char\\' data type in Python. Strings are sequences of characters. np.f32 is a NumPy data type.\", \"follow_up_question\": \"What is the output of the following code snippet?\\\\nnum = 5\\\\nprint(type(num))\", \"expected_output\": \"<class \\'int\\'>\"}'}, {'human': 'int', 'AI': '{\"confidence\": 8, \"tone\": \"Confident\", \"feedback\": \"Correct! You\\' reverse-engineered the information I provided earlier. Great job.\", \"follow_up_question\": \"How would you declare a variable-length string in Python?\", \"expected_output\": \"\"}'}]"
   ]
  },
  {
   "cell_type": "code",
   "execution_count": 6,
   "metadata": {},
   "outputs": [
    {
     "data": {
      "text/plain": [
       "[{'human': 'Hi i(m thomas',\n",
       "  'AI': '{\"confidence\": 5, \"tone\": \"Unassuming\", \"feedback\": \"Remember to capitalize the \\'P\\' in Python.\", \"follow_up_question\": \"What is your favorite feature of Python?\", \"expected_output\": \"A specific feature of Python, such as list comprehension, tuples, or the use of whitespace for indentation.\"}'},\n",
       " {'human': \"that it's a untyped language\",\n",
       "  'AI': '{\"confidence\": 2, \"tone\": \"\", \"feedback\": \"Python is dynamically typed rather than untyped. It means Python checks the type of the variable at runtime.\", \"follow_up_question\": \"Can you name a few basic data types in Python?\", \"expected_output\": \"\"}'},\n",
       " {'human': 'int, float, np.f32, char, string',\n",
       "  'AI': '{\"confidence\": 6, \"tone\": \"Assertive\", \"feedback\": \"Good job! You mentioned int, float, and string. However, there is no \\'char\\' data type in Python. Strings are sequences of characters. np.f32 is a NumPy data type.\", \"follow_up_question\": \"What is the output of the following code snippet?\\\\nnum = 5\\\\nprint(type(num))\", \"expected_output\": \"<class \\'int\\'>\"}'},\n",
       " {'human': 'int',\n",
       "  'AI': '{\"confidence\": 8, \"tone\": \"Confident\", \"feedback\": \"Correct! You\\' reverse-engineered the information I provided earlier. Great job.\", \"follow_up_question\": \"How would you declare a variable-length string in Python?\", \"expected_output\": \"\"}'}]"
      ]
     },
     "execution_count": 6,
     "metadata": {},
     "output_type": "execute_result"
    }
   ],
   "source": [
    "history"
   ]
  },
  {
   "cell_type": "code",
   "execution_count": 7,
   "metadata": {},
   "outputs": [],
   "source": [
    "import json\n",
    "import os\n",
    "import re\n",
    "\n",
    "from groq import Groq\n",
    "import matplotlib.pyplot as plt\n",
    "import numpy as np\n",
    "from scipy.interpolate import CubicSpline\n",
    "\n",
    "def get_similarity_rating(human_msg, ai_msg):\n",
    "    from groq import Groq\n",
    "\n",
    "    client = Groq(\n",
    "        api_key='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',\n",
    "    )\n",
    "\n",
    "    system_prompt = '''you are a jury rating on a scale from 0 to 10 the similarity in meaning of the two sentences that i am going to give you. Your aim is only to output a number between 0 and 10.\n",
    "    INSTRUCTIONS: You will output the rating in the following pattern: \"0-10\".\n",
    "    \n",
    "    EXAMPLE:\n",
    "        user_input: Sentence 1): i like apples ; Sentence 2): the sky is blue\n",
    "        ideal_output: 0\n",
    "    IMPORTANT: The output must be a number between 0 and 10 in the pattern \"0\". IF YOU START THE MESSAGE WITH ANYTHING ELSE THAN NUMBERS, YOU WILL BE KILLED.'''\n",
    "\n",
    "    chat_completion = client.chat.completions.create(\n",
    "        messages=[\n",
    "            {\n",
    "                \"role\": \"system\",\n",
    "                \"content\": system_prompt\n",
    "            },\n",
    "            {\n",
    "                \"role\": \"user\",\n",
    "                \"content\": \"Sentence 1): \" + human_msg + \" Sentence 2): \" + ai_msg\n",
    "            }\n",
    "        ],\n",
    "        model=\"mixtral-8x7b-32768\",\n",
    "        max_tokens=3,\n",
    "    )\n",
    "    msg = chat_completion.choices[0].message.content\n",
    "    def is_number_with_newline(input_string):\n",
    "        return bool(re.match(r'^\\d', input_string))\n",
    "\n",
    "    if not is_number_with_newline(msg):\n",
    "        print(msg)\n",
    "        chat_completion = client.chat.completions.create(\n",
    "        messages=[\n",
    "            {\n",
    "                \"role\": \"system\",\n",
    "                \"content\": system_prompt\n",
    "            },\n",
    "            {\n",
    "                \"role\": \"user\",\n",
    "                \"content\": \"Sentence 1): \" + human_msg + \" Sentence 2): \" + ai_msg + \" JUST OUTPUT THE NUMBER :\"\n",
    "            }\n",
    "        ],\n",
    "        model=\"mixtral-8x7b-32768\",\n",
    "        max_tokens=3,\n",
    "        )\n",
    "        msg = chat_completion.choices[0].message.content\n",
    "        print(msg)\n",
    "\n",
    "    return int(msg)\n"
   ]
  },
  {
   "cell_type": "code",
   "execution_count": 8,
   "metadata": {},
   "outputs": [
    {
     "name": "stdout",
     "output_type": "stream",
     "text": [
      "I will follow\n",
      "0\n"
     ]
    },
    {
     "data": {
      "image/png": "[encoded data removed]",
      "text/plain": [
       "<Figure size 1000x600 with 1 Axes>"
      ]
     },
     "metadata": {},
     "output_type": "display_data"
    }
   ],
   "source": [
    "\n",
    "\n",
    "\n",
    "\n",
    "def plot_DK_curve(history):\n",
    "    # Define the points\n",
    "    x_points = np.array([0, 2, 3.5, 10])\n",
    "    y_points = np.array([0, 8, 4, 10])\n",
    "\n",
    "    # Create a cubic spline interpolation\n",
    "    cspl = CubicSpline(x_points, y_points, bc_type='clamped')\n",
    "\n",
    "    # Generate x values for the full range\n",
    "    x = np.linspace(0, 10, 500)\n",
    "    y = cspl(x)\n",
    "\n",
    "    # Ensure the y values stay within the range [0, 10]\n",
    "\n",
    "    dk_dict = {\"rating\": [], \"confidence\": []}\n",
    "    for i in range(len(history)-1):\n",
    "        human_msg = history[i+1]['human']\n",
    "        ai_msg = json.loads(history[i]['AI'])[\"expected_output\"]\n",
    "        rating = get_similarity_rating(human_msg, ai_msg)\n",
    "        dk_dict['rating'].append(int(rating))\n",
    "        confidence = json.loads(history[i+1]['AI'])[\"confidence\"]\n",
    "        dk_dict['confidence'].append(int(confidence))\n",
    "\n",
    "    # Plotting\n",
    "    plt.figure(figsize=(10, 6),facecolor='gray')\n",
    "    plt.plot(dk_dict['rating'], dk_dict['confidence'], 'o', color='orange', markersize=20, alpha=0.4)\n",
    "    plt.plot(x, y, '--',color='white',linewidth=3)\n",
    "\n",
    "    # Customizing the plot\n",
    "    plt.gca().set_facecolor('gray')\n",
    "    plt.gca().spines['top'].set_color('none')\n",
    "    plt.gca().spines['right'].set_color('none')\n",
    "    plt.gca().spines['left'].set_color('white')\n",
    "    plt.gca().spines['left'].set_linewidth(2)\n",
    "    plt.gca().spines['bottom'].set_color('white')\n",
    "    plt.gca().spines['bottom'].set_linewidth(2)\n",
    "    plt.gca().tick_params(axis='x', colors='white')\n",
    "    plt.gca().tick_params(axis='y', colors='white')\n",
    "    plt.gca().xaxis.label.set_color('white')\n",
    "    plt.gca().xaxis.label.set_fontsize(14)\n",
    "    plt.gca().yaxis.label.set_fontsize(14)\n",
    "    plt.gca().yaxis.label.set_color('white')\n",
    "    plt.gca().title.set_color('darkgray')\n",
    "\n",
    "    plt.xlim(0, 10)\n",
    "    plt.ylim(0, 10)\n",
    "    plt.xlabel('Knowledge', weight='bold')\n",
    "    plt.ylabel('Confidence', weight='bold')\n",
    "    plt.xticks([])\n",
    "    plt.yticks([])\n",
    "    plt.tight_layout()\n",
    "    plt.savefig('./DK_curve.png', facecolor='darkgray')\n",
    "\n",
    " \n",
    "\n",
    "plot_DK_curve(history)\n",
    "    "
   ]
  },
  {
   "cell_type": "code",
   "execution_count": 9,
   "metadata": {},
   "outputs": [
    {
     "ename": "SyntaxError",
     "evalue": "expected 'else' after 'if' expression (3402448548.py, line 1)",
     "output_type": "error",
     "traceback": [
      "\u001b[1;36m  Cell \u001b[1;32mIn[9], line 1\u001b[1;36m\u001b[0m\n\u001b[1;33m    say yes or no if its over 5 and then coller la courbe avec perturbations\u001b[0m\n\u001b[1;37m        ^\u001b[0m\n\u001b[1;31mSyntaxError\u001b[0m\u001b[1;31m:\u001b[0m expected 'else' after 'if' expression\n"
     ]
    }
   ],
   "source": [
    "say yes or no if its over 5 and then coller la courbe avec perturbations"
   ]
  },
  {
   "cell_type": "markdown",
   "metadata": {},
   "source": [
    "# plotting confidence over time\n"
   ]
  },
  {
   "cell_type": "code",
   "execution_count": null,
   "metadata": {},
   "outputs": [
    {
     "data": {
      "text/plain": [
       "[<matplotlib.lines.Line2D at 0x2a1075f9910>]"
      ]
     },
     "execution_count": 75,
     "metadata": {},
     "output_type": "execute_result"
    },
    {
     "data": {
      "image/png": "[encoded data removed]",
      "text/plain": [
       "<Figure size 640x480 with 1 Axes>"
      ]
     },
     "metadata": {},
     "output_type": "display_data"
    }
   ],
   "source": [
    "def retrieve_confidence(history):\n",
    "    confidence = []\n",
    "    for i in range(len(history)):\n",
    "        confidence.append(int(json.loads(history[i]['AI'])[\"confidence\"]))\n",
    "    return confidence\n",
    "plt.plot(retrieve_confidence(history),'.')\n",
    "\n",
    "def retrieve_rating(history):\n",
    "    rating = []\n",
    "    for i in range(len(history)):\n",
    "        rating.append(get_similarity_rating(history[i]['human'], json.loads(history[i]['AI'])[\"expected_output\"]))\n",
    "    return rating\n",
    "plt.plot(retrieve_rating(history),'.')"
   ]
  },
  {
   "cell_type": "code",
   "execution_count": null,
   "metadata": {},
   "outputs": [],
   "source": []
  },
  {
   "cell_type": "markdown",
   "metadata": {},
   "source": [
    "# comment on style and delivery\n"
   ]
  },
  {
   "cell_type": "code",
   "execution_count": null,
   "metadata": {},
   "outputs": [
    {
     "data": {
      "text/plain": [
       "\"First point: It' D beneficial to directly state your topic of interest in the beginning to give a clear direction for your audience.\\nSecond point: Using consistent and appropriate grammar throughout your delivery will improve the flow and understanding for your audience.\\nThird point: Providing more detailed and specific examples or explanations on your preferance towards a certain topic will engage your knowledgeable audience.\\n\\n(Note: In the first sentence, I assumed the topic of interest was related to programming, based on the examples and words used.)\""
      ]
     },
     "execution_count": 116,
     "metadata": {},
     "output_type": "execute_result"
    }
   ],
   "source": [
    "# gather every deliveries that the user did and concatenate the into a single string\n",
    "deliveries = []\n",
    "for i in range(len(history)):\n",
    "    deliveries.append(history[i]['human'])\n",
    "deliveries = ' ;'.join(deliveries)\n",
    "\n",
    "# ask the model to generate a feedback based on the deliveries\n",
    "\n",
    "def get_similarity_rating(human_msg):\n",
    "    from groq import Groq\n",
    "\n",
    "    client = Groq(\n",
    "        api_key='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',\n",
    "    )\n",
    "\n",
    "    system_prompt = '''you are a jury rating the quality of delivery and fiving three pointers to bring the delivery to the best delivery possible to the intented and very knowledgeable audience.\n",
    "    \n",
    "    EXAMPLE:\n",
    "        user_input: i like innputs and girls, but i prefer blokes.\n",
    "        output : first point: your message is not clear you should refine the main message that you want to convey. Second point: you should use shorter senteces to give more rythm to your message. Third point : you shoudl use more formal language\n",
    "    IMPORTANT:\n",
    "        The output must be a list of three points. Each point should be a sentence.'''\n",
    "\n",
    "    chat_completion = client.chat.completions.create(\n",
    "        messages=[\n",
    "            {\n",
    "                \"role\": \"system\",\n",
    "                \"content\": system_prompt\n",
    "            },\n",
    "            {\n",
    "                \"role\": \"user\",\n",
    "                \"content\": human_msg\n",
    "            }\n",
    "        ],\n",
    "        model=\"mixtral-8x7b-32768\",\n",
    "        max_tokens=248,\n",
    "    )\n",
    "\n",
    "    return chat_completion.choices[0].message.content\n",
    "\n",
    "get_similarity_rating(deliveries)"
   ]
  },
  {
   "cell_type": "code",
   "execution_count": 10,
   "metadata": {},
   "outputs": [
    {
     "ename": "NameError",
     "evalue": "name 'deliveries' is not defined",
     "output_type": "error",
     "traceback": [
      "\u001b[1;31m---------------------------------------------------------------------------\u001b[0m",
      "\u001b[1;31mNameError\u001b[0m                                 Traceback (most recent call last)",
      "Cell \u001b[1;32mIn[10], line 1\u001b[0m\n\u001b[1;32m----> 1\u001b[0m deliveries\n",
      "\u001b[1;31mNameError\u001b[0m: name 'deliveries' is not defined"
     ]
    }
   ],
   "source": [
    "deliveries"
   ]
  },
  {
   "cell_type": "code",
   "execution_count": 11,
   "metadata": {},
   "outputs": [
    {
     "data": {
      "text/plain": [
       "2"
      ]
     },
     "execution_count": 11,
     "metadata": {},
     "output_type": "execute_result"
    }
   ],
   "source": [
    "{\n",
    "    \"confidence\": 2,\n",
    "    \"tone\": \"Unassuming\",\n",
    "    \"feedback\": \"Nice to meet you, Thomas! Let's start with a simple SQL query. What is the syntax for selecting all columns and rows from a table called 'employees'?\",\n",
    "    \"follow_up_question\": \"Now, Thomas, can you write a query that retrieves only the 'first_name' and 'salary' columns from the 'employees' table?\",\n",
    "    \"expected_output\": \"The output should be a SELECT statement, retrieving 'first\\_name' and 'salary' columns from the 'employees' table.\"\n",
    "}[\"confidence\"]"
   ]
  },
  {
   "cell_type": "markdown",
   "metadata": {},
   "source": [
    "# clean up json\n"
   ]
  },
  {
   "cell_type": "code",
   "execution_count": 12,
   "metadata": {},
   "outputs": [
    {
     "name": "stdout",
     "output_type": "stream",
     "text": [
      "{\"confidence\": 2, \"tone\": \"Unassuming\", \"feedback\": \"Nice to meet you, Thomas! Let's start with a simple SQL query. What is the syntax for selecting all columns and rows from a table called 'employees'?\", \"follow_up_question\": \"Now, Thomas, can you write a query that retrieves only the 'first_name' and 'salary' columns from the 'employees' table?\", \"expected_output\": \"The output should be a SELECT statement, retrieving 'first_name' and 'salary' columns from the 'employees' table.\"}\n"
     ]
    }
   ],
   "source": [
    "import json\n",
    "\n",
    "def clean_json(data):\n",
    "    # Ensure the input data is in dictionary format\n",
    "    if isinstance(data, str):\n",
    "        data = json.loads(data)\n",
    "    \n",
    "    # Clean the data\n",
    "    cleaned_data = {\n",
    "        \"confidence\": data.get(\"confidence\", \"\"),\n",
    "        \"tone\": data.get(\"tone\", \"\").strip(),\n",
    "        \"feedback\": data.get(\"feedback\", \"\").strip(),\n",
    "        \"follow_up_question\": data.get(\"follow_up_question\", \"\").strip(),\n",
    "        \"expected_output\": data.get(\"expected_output\", \"\").strip().replace('\\\\_', '_')\n",
    "    }\n",
    "    \n",
    "    # Encode the data to UTF-8\n",
    "    cleaned_json = json.dumps(cleaned_data, ensure_ascii=False).encode('utf-8')\n",
    "    \n",
    "    return cleaned_json\n",
    "\n",
    "# Example usage\n",
    "data = {\n",
    "    \"confidence\": 2,\n",
    "    \"tone\": \"Unassuming\",\n",
    "    \"feedback\": \"Nice to meet you, Thomas! Let's start with a simple SQL query. What is the syntax for selecting all columns and rows from a table called 'employees'?\",\n",
    "    \"follow_up_question\": \"Now, Thomas, can you write a query that retrieves only the 'first_name' and 'salary' columns from the 'employees' table?\",\n",
    "    \"expected_output\": \"The output should be a SELECT statement, retrieving 'first\\\\_name' and 'salary' columns from the 'employees' table.\"\n",
    "}\n",
    "\n",
    "cleaned_json = clean_json(data)\n",
    "print(cleaned_json.decode('utf-8'))\n"
   ]
  },
  {
   "cell_type": "code",
   "execution_count": 13,
   "metadata": {},
   "outputs": [
    {
     "name": "stdout",
     "output_type": "stream",
     "text": [
      "Initial JSON decoding failed: Expecting property name enclosed in double quotes: line 1 column 6 (char 5)\n"
     ]
    },
    {
     "ename": "ValueError",
     "evalue": "Sanitization failed: Expecting property name enclosed in double quotes: line 1 column 6 (char 5)",
     "output_type": "error",
     "traceback": [
      "\u001b[1;31m---------------------------------------------------------------------------\u001b[0m",
      "\u001b[1;31mJSONDecodeError\u001b[0m                           Traceback (most recent call last)",
      "Cell \u001b[1;32mIn[13], line 18\u001b[0m, in \u001b[0;36msanitize_text_for_json\u001b[1;34m(text)\u001b[0m\n\u001b[0;32m     16\u001b[0m \u001b[39mtry\u001b[39;00m:\n\u001b[0;32m     17\u001b[0m     \u001b[39m# Try to parse the JSON\u001b[39;00m\n\u001b[1;32m---> 18\u001b[0m     data \u001b[39m=\u001b[39m json\u001b[39m.\u001b[39;49mloads(text)\n\u001b[0;32m     19\u001b[0m \u001b[39mexcept\u001b[39;00m json\u001b[39m.\u001b[39mJSONDecodeError \u001b[39mas\u001b[39;00m e:\n\u001b[0;32m     20\u001b[0m     \u001b[39m# If JSON is invalid, attempt to fix common issues\u001b[39;00m\n",
      "File \u001b[1;32m~\\.pyenv\\pyenv-win\\versions\\3.11.1\\Lib\\json\\__init__.py:346\u001b[0m, in \u001b[0;36mloads\u001b[1;34m(s, cls, object_hook, parse_float, parse_int, parse_constant, object_pairs_hook, **kw)\u001b[0m\n\u001b[0;32m    343\u001b[0m \u001b[39mif\u001b[39;00m (\u001b[39mcls\u001b[39m \u001b[39mis\u001b[39;00m \u001b[39mNone\u001b[39;00m \u001b[39mand\u001b[39;00m object_hook \u001b[39mis\u001b[39;00m \u001b[39mNone\u001b[39;00m \u001b[39mand\u001b[39;00m\n\u001b[0;32m    344\u001b[0m         parse_int \u001b[39mis\u001b[39;00m \u001b[39mNone\u001b[39;00m \u001b[39mand\u001b[39;00m parse_float \u001b[39mis\u001b[39;00m \u001b[39mNone\u001b[39;00m \u001b[39mand\u001b[39;00m\n\u001b[0;32m    345\u001b[0m         parse_constant \u001b[39mis\u001b[39;00m \u001b[39mNone\u001b[39;00m \u001b[39mand\u001b[39;00m object_pairs_hook \u001b[39mis\u001b[39;00m \u001b[39mNone\u001b[39;00m \u001b[39mand\u001b[39;00m \u001b[39mnot\u001b[39;00m kw):\n\u001b[1;32m--> 346\u001b[0m     \u001b[39mreturn\u001b[39;00m _default_decoder\u001b[39m.\u001b[39;49mdecode(s)\n\u001b[0;32m    347\u001b[0m \u001b[39mif\u001b[39;00m \u001b[39mcls\u001b[39m \u001b[39mis\u001b[39;00m \u001b[39mNone\u001b[39;00m:\n",
      "File \u001b[1;32m~\\.pyenv\\pyenv-win\\versions\\3.11.1\\Lib\\json\\decoder.py:337\u001b[0m, in \u001b[0;36mJSONDecoder.decode\u001b[1;34m(self, s, _w)\u001b[0m\n\u001b[0;32m    333\u001b[0m \u001b[39m\u001b[39m\u001b[39m\"\"\"Return the Python representation of ``s`` (a ``str`` instance\u001b[39;00m\n\u001b[0;32m    334\u001b[0m \u001b[39mcontaining a JSON document).\u001b[39;00m\n\u001b[0;32m    335\u001b[0m \n\u001b[0;32m    336\u001b[0m \u001b[39m\"\"\"\u001b[39;00m\n\u001b[1;32m--> 337\u001b[0m obj, end \u001b[39m=\u001b[39m \u001b[39mself\u001b[39;49m\u001b[39m.\u001b[39;49mraw_decode(s, idx\u001b[39m=\u001b[39;49m_w(s, \u001b[39m0\u001b[39;49m)\u001b[39m.\u001b[39;49mend())\n\u001b[0;32m    338\u001b[0m end \u001b[39m=\u001b[39m _w(s, end)\u001b[39m.\u001b[39mend()\n",
      "File \u001b[1;32m~\\.pyenv\\pyenv-win\\versions\\3.11.1\\Lib\\json\\decoder.py:353\u001b[0m, in \u001b[0;36mJSONDecoder.raw_decode\u001b[1;34m(self, s, idx)\u001b[0m\n\u001b[0;32m    352\u001b[0m \u001b[39mtry\u001b[39;00m:\n\u001b[1;32m--> 353\u001b[0m     obj, end \u001b[39m=\u001b[39m \u001b[39mself\u001b[39;49m\u001b[39m.\u001b[39;49mscan_once(s, idx)\n\u001b[0;32m    354\u001b[0m \u001b[39mexcept\u001b[39;00m \u001b[39mStopIteration\u001b[39;00m \u001b[39mas\u001b[39;00m err:\n",
      "\u001b[1;31mJSONDecodeError\u001b[0m: Expecting property name enclosed in double quotes: line 1 column 6 (char 5)",
      "\nDuring handling of the above exception, another exception occurred:\n",
      "\u001b[1;31mJSONDecodeError\u001b[0m                           Traceback (most recent call last)",
      "Cell \u001b[1;32mIn[13], line 28\u001b[0m, in \u001b[0;36msanitize_text_for_json\u001b[1;34m(text)\u001b[0m\n\u001b[0;32m     27\u001b[0m \u001b[39mtry\u001b[39;00m:\n\u001b[1;32m---> 28\u001b[0m     data \u001b[39m=\u001b[39m json\u001b[39m.\u001b[39;49mloads(text)\n\u001b[0;32m     29\u001b[0m \u001b[39mexcept\u001b[39;00m json\u001b[39m.\u001b[39mJSONDecodeError \u001b[39mas\u001b[39;00m e:\n",
      "File \u001b[1;32m~\\.pyenv\\pyenv-win\\versions\\3.11.1\\Lib\\json\\__init__.py:346\u001b[0m, in \u001b[0;36mloads\u001b[1;34m(s, cls, object_hook, parse_float, parse_int, parse_constant, object_pairs_hook, **kw)\u001b[0m\n\u001b[0;32m    343\u001b[0m \u001b[39mif\u001b[39;00m (\u001b[39mcls\u001b[39m \u001b[39mis\u001b[39;00m \u001b[39mNone\u001b[39;00m \u001b[39mand\u001b[39;00m object_hook \u001b[39mis\u001b[39;00m \u001b[39mNone\u001b[39;00m \u001b[39mand\u001b[39;00m\n\u001b[0;32m    344\u001b[0m         parse_int \u001b[39mis\u001b[39;00m \u001b[39mNone\u001b[39;00m \u001b[39mand\u001b[39;00m parse_float \u001b[39mis\u001b[39;00m \u001b[39mNone\u001b[39;00m \u001b[39mand\u001b[39;00m\n\u001b[0;32m    345\u001b[0m         parse_constant \u001b[39mis\u001b[39;00m \u001b[39mNone\u001b[39;00m \u001b[39mand\u001b[39;00m object_pairs_hook \u001b[39mis\u001b[39;00m \u001b[39mNone\u001b[39;00m \u001b[39mand\u001b[39;00m \u001b[39mnot\u001b[39;00m kw):\n\u001b[1;32m--> 346\u001b[0m     \u001b[39mreturn\u001b[39;00m _default_decoder\u001b[39m.\u001b[39;49mdecode(s)\n\u001b[0;32m    347\u001b[0m \u001b[39mif\u001b[39;00m \u001b[39mcls\u001b[39m \u001b[39mis\u001b[39;00m \u001b[39mNone\u001b[39;00m:\n",
      "File \u001b[1;32m~\\.pyenv\\pyenv-win\\versions\\3.11.1\\Lib\\json\\decoder.py:337\u001b[0m, in \u001b[0;36mJSONDecoder.decode\u001b[1;34m(self, s, _w)\u001b[0m\n\u001b[0;32m    333\u001b[0m \u001b[39m\u001b[39m\u001b[39m\"\"\"Return the Python representation of ``s`` (a ``str`` instance\u001b[39;00m\n\u001b[0;32m    334\u001b[0m \u001b[39mcontaining a JSON document).\u001b[39;00m\n\u001b[0;32m    335\u001b[0m \n\u001b[0;32m    336\u001b[0m \u001b[39m\"\"\"\u001b[39;00m\n\u001b[1;32m--> 337\u001b[0m obj, end \u001b[39m=\u001b[39m \u001b[39mself\u001b[39;49m\u001b[39m.\u001b[39;49mraw_decode(s, idx\u001b[39m=\u001b[39;49m_w(s, \u001b[39m0\u001b[39;49m)\u001b[39m.\u001b[39;49mend())\n\u001b[0;32m    338\u001b[0m end \u001b[39m=\u001b[39m _w(s, end)\u001b[39m.\u001b[39mend()\n",
      "File \u001b[1;32m~\\.pyenv\\pyenv-win\\versions\\3.11.1\\Lib\\json\\decoder.py:353\u001b[0m, in \u001b[0;36mJSONDecoder.raw_decode\u001b[1;34m(self, s, idx)\u001b[0m\n\u001b[0;32m    352\u001b[0m \u001b[39mtry\u001b[39;00m:\n\u001b[1;32m--> 353\u001b[0m     obj, end \u001b[39m=\u001b[39m \u001b[39mself\u001b[39;49m\u001b[39m.\u001b[39;49mscan_once(s, idx)\n\u001b[0;32m    354\u001b[0m \u001b[39mexcept\u001b[39;00m \u001b[39mStopIteration\u001b[39;00m \u001b[39mas\u001b[39;00m err:\n",
      "\u001b[1;31mJSONDecodeError\u001b[0m: Expecting property name enclosed in double quotes: line 1 column 6 (char 5)",
      "\nDuring handling of the above exception, another exception occurred:\n",
      "\u001b[1;31mValueError\u001b[0m                                Traceback (most recent call last)",
      "Cell \u001b[1;32mIn[13], line 45\u001b[0m\n\u001b[0;32m     34\u001b[0m \u001b[39m# Example usage\u001b[39;00m\n\u001b[0;32m     35\u001b[0m text_output \u001b[39m=\u001b[39m \u001b[39m'''\u001b[39m\n\u001b[0;32m     36\u001b[0m \u001b[39m{\u001b[39m\n\u001b[0;32m     37\u001b[0m \u001b[39m    \u001b[39m\u001b[39m\"\u001b[39m\u001b[39mconfidence\u001b[39m\u001b[39m\"\u001b[39m\u001b[39m: 2,\u001b[39m\n\u001b[1;32m   (...)\u001b[0m\n\u001b[0;32m     42\u001b[0m \u001b[39m}\u001b[39m\n\u001b[0;32m     43\u001b[0m \u001b[39m'''\u001b[39m\n\u001b[1;32m---> 45\u001b[0m sanitized_json \u001b[39m=\u001b[39m sanitize_text_for_json(text_output)\n\u001b[0;32m     46\u001b[0m \u001b[39mprint\u001b[39m(json\u001b[39m.\u001b[39mdumps(sanitized_json, indent\u001b[39m=\u001b[39m\u001b[39m2\u001b[39m, ensure_ascii\u001b[39m=\u001b[39m\u001b[39mFalse\u001b[39;00m))\n",
      "Cell \u001b[1;32mIn[13], line 30\u001b[0m, in \u001b[0;36msanitize_text_for_json\u001b[1;34m(text)\u001b[0m\n\u001b[0;32m     28\u001b[0m         data \u001b[39m=\u001b[39m json\u001b[39m.\u001b[39mloads(text)\n\u001b[0;32m     29\u001b[0m     \u001b[39mexcept\u001b[39;00m json\u001b[39m.\u001b[39mJSONDecodeError \u001b[39mas\u001b[39;00m e:\n\u001b[1;32m---> 30\u001b[0m         \u001b[39mraise\u001b[39;00m \u001b[39mValueError\u001b[39;00m(\u001b[39mf\u001b[39m\u001b[39m\"\u001b[39m\u001b[39mSanitization failed: \u001b[39m\u001b[39m{\u001b[39;00me\u001b[39m}\u001b[39;00m\u001b[39m\"\u001b[39m)\n\u001b[0;32m     32\u001b[0m \u001b[39mreturn\u001b[39;00m data\n",
      "\u001b[1;31mValueError\u001b[0m: Sanitization failed: Expecting property name enclosed in double quotes: line 1 column 6 (char 5)"
     ]
    }
   ],
   "source": [
    "import json\n",
    "import re\n",
    "\n",
    "def sanitize_text_for_json(text):\n",
    "    # Remove any control characters or non-printable characters\n",
    "    text = re.sub(r'[^\\x20-\\x7E]+', '', text)\n",
    "    \n",
    "    # Ensure that backslashes and quotes are properly escaped\n",
    "    text = text.replace('\\\\', '\\\\\\\\').replace('\"', '\\\\\"')\n",
    "    \n",
    "    # Add a basic structure if necessary\n",
    "    if not (text.startswith('{') and text.endswith('}')):\n",
    "        text = '{' + text + '}'\n",
    "\n",
    "    # Attempt to load the JSON, correcting common issues\n",
    "    try:\n",
    "        # Try to parse the JSON\n",
    "        data = json.loads(text)\n",
    "    except json.JSONDecodeError as e:\n",
    "        # If JSON is invalid, attempt to fix common issues\n",
    "        print(f\"Initial JSON decoding failed: {e}\")\n",
    "        text = re.sub(r',\\s*}', '}', text)  # Remove trailing commas before closing brace\n",
    "        text = re.sub(r',\\s*]', ']', text)  # Remove trailing commas before closing bracket\n",
    "        text = re.sub(r'\"\\s*:\\s*\"', '\": \"', text)  # Ensure proper spacing around colons\n",
    "        \n",
    "        # Attempt to parse again\n",
    "        try:\n",
    "            data = json.loads(text)\n",
    "        except json.JSONDecodeError as e:\n",
    "            raise ValueError(f\"Sanitization failed: {e}\")\n",
    "    \n",
    "    return data\n",
    "\n",
    "# Example usage\n",
    "text_output = '''\n",
    "{\n",
    "    \"confidence\": 2,\n",
    "    \"tone\": \"Unassuming\",\n",
    "    \"feedback\": \"Nice to meet you, Thomas! Let's start with a simple SQL query. What is the syntax for selecting all columns and rows from a table called 'employees'?\",\n",
    "    \"follow_up_question\": \"Now, Thomas, can you write a query that retrieves only the 'first_name' and 'salary' columns from the 'employees' table?\",\n",
    "    \"expected_output\": \"The output should be a SELECT statement, retrieving 'first\\\\_name' and 'salary' columns from the 'employees' table.\",\n",
    "}\n",
    "'''\n",
    "\n",
    "sanitized_json = sanitize_text_for_json(text_output)\n",
    "print(json.dumps(sanitized_json, indent=2, ensure_ascii=False))\n"
   ]
  },
  {
   "cell_type": "code",
   "execution_count": 14,
   "metadata": {},
   "outputs": [],
   "source": [
    "def clean_llm_output(llm_output):\n",
    "    # Remove any extraneous characters before the first { and after the last }\n",
    "    start_index = llm_output.find('{')\n",
    "    end_index = llm_output.rfind('}') + 1\n",
    "    json_like_str = llm_output[start_index:end_index]\n",
    "    \n",
    "    # Remove any invalid characters (non-printable ASCII characters)\n",
    "    json_like_str = re.sub(r'[^\\x20-\\x7E]+', '', json_like_str)\n",
    "    \n",
    "    # Correct any common JSON issues\n",
    "    json_like_str = json_like_str.replace('\\\\\"', '\"')  # Fix improperly escaped quotes\n",
    "    json_like_str = re.sub(r',\\s*}', '}', json_like_str)  # Remove trailing commas before closing brace\n",
    "    json_like_str = re.sub(r',\\s*]', ']', json_like_str)  # Remove trailing commas before closing bracket\n",
    "    \n",
    "    # Validate and load the JSON\n",
    "    try:\n",
    "        data = json.loads(json_like_str)\n",
    "    except json.JSONDecodeError as e:\n",
    "        raise ValueError(f\"Failed to parse JSON: {e}\")\n",
    "    \n",
    "    return data"
   ]
  },
  {
   "cell_type": "code",
   "execution_count": 20,
   "metadata": {},
   "outputs": [],
   "source": [
    "def clean_llm_output(text):\n",
    "    # Define the expected keys\n",
    "    expected_keys = [\"confidence\", \"tone\", \"feedback\", \"follow_up_question\", \"expected_output\"]\n",
    "    \n",
    "    # Remove any leading or trailing characters that are not part of the JSON structure\n",
    "    text = text.strip().strip(\"\")\n",
    "    \n",
    "    # Replace any occurrences of single backslashes with double backslashes for escaping\n",
    "    text = text.replace('\\\\', '\\\\\\\\')\n",
    "    \n",
    "    # Ensure the quotes are properly escaped\n",
    "    text = re.sub(r'(?<!\\\\)\"', r'\\\\\"', text)\n",
    "    \n",
    "    # Add back the leading and trailing braces if they were removed\n",
    "    if not text.startswith('{'):\n",
    "        text = '{' + text\n",
    "    if not text.endswith('}'):\n",
    "        text = text + '}'\n",
    "    \n",
    "    # Attempt to load the JSON\n",
    "    try:\n",
    "        data = json.loads(text)\n",
    "    except json.JSONDecodeError as e:\n",
    "        # If JSON is invalid, try to reconstruct it\n",
    "        print(f\"Initial JSON decoding failed: {e}\")\n",
    "        \n",
    "        # Use regular expressions to extract the key-value pairs\n",
    "        key_value_pairs = re.findall(r'\"(confidence|tone|feedback|follow_up_question|expected_output)\"\\s*:\\s*\"(.*?)\"', text)\n",
    "        data = {k: v for k, v in key_value_pairs}\n",
    "        \n",
    "        # Ensure all expected keys are present\n",
    "        for key in expected_keys:\n",
    "            if key not in data:\n",
    "                data[key] = \"\"\n",
    "\n",
    "    return data"
   ]
  },
  {
   "cell_type": "code",
   "execution_count": 21,
   "metadata": {},
   "outputs": [
    {
     "name": "stdout",
     "output_type": "stream",
     "text": [
      "Initial JSON decoding failed: Expecting property name enclosed in double quotes: line 1 column 2 (char 1)\n",
      "{\n",
      "  \"confidence\": \"\",\n",
      "  \"tone\": \"\",\n",
      "  \"feedback\": \"\",\n",
      "  \"follow_up_question\": \"\",\n",
      "  \"expected_output\": \"\"\n",
      "}\n"
     ]
    }
   ],
   "source": [
    "\n",
    "# Example usage\n",
    "llm_output = '''{\"confidence\": 2, \"tone\": \"Confident\", \"feedback\": \"That' interview-like role-play can be challenging. Let's try a simple topic instead. Can you explain what a variable is and how it's used in programming?\", \"follow_ variables in programming. In many programming languages, including Python, you can create a variable by assigning a value to it using the equals sign. Here's an example in Python:x = 5print(x)Output: `5`Can you provide a similar example in another programming language?\", \"expected_output\": \"In this example, a variable called 'x' is created and assigned the value 5. The value can later be changed or manipulated in the program. Here' `x = 5print(x)Output: `5`Can you provide a similar example in another programming language?\", \"expected_output\": \"In this example, a variable called 'x' is created and assigned the value 5. The value can later be changed or manipulated in the program. Here's a JavaScript example:let x = 5;console.log(x);Output: `5`\"}'''\n",
    "\n",
    "cleaned_data = clean_llm_output(llm_output)\n",
    "print(json.dumps(cleaned_data, indent=2, ensure_ascii=False))"
   ]
  },
  {
   "cell_type": "code",
   "execution_count": null,
   "metadata": {},
   "outputs": [],
   "source": []
  },
  {
   "cell_type": "code",
   "execution_count": null,
   "metadata": {},
   "outputs": [],
   "source": []
  }
 ],
 "metadata": {
  "kernelspec": {
   "display_name": ".venv",
   "language": "python",
   "name": "python3"
  },
  "language_info": {
   "codemirror_mode": {
    "name": "ipython",
    "version": 3
   },
   "file_extension": ".py",
   "mimetype": "text/x-python",
   "name": "python",
   "nbconvert_exporter": "python",
   "pygments_lexer": "ipython3",
   "version": "3.11.1"
  },
  "orig_nbformat": 4
 },
 "nbformat": 4,
 "nbformat_minor": 2
}
